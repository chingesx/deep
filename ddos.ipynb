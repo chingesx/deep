{
 "cells": [
  {
   "cell_type": "markdown",
   "metadata": {},
   "source": [
    "# Importing and treating CIC-DDoS-2019\n"
   ]
  },
  {
   "cell_type": "code",
   "execution_count": 6,
   "metadata": {},
   "outputs": [],
   "source": [
    "import pandas as pd\n",
    "import numpy as np\n",
    "from sklearn.utils import resample\n",
    "from sklearn import preprocessing"
   ]
  },
  {
   "cell_type": "markdown",
   "metadata": {},
   "source": [
    "## Defining functions to load files and downsample them\n",
    "\n",
    "Энэхүү судалгаа нь хоёртын детектор (Attack эсвэл Normal) хөгжүүлэх зорилготой тул бид эдгээр хоёр ангийн хооронд өгөгдлийн багцыг тэнцвэржүүлэх хэрэгтэй. Гэсэн хэдий ч CIC-DDOS2019 нь цөөн тооны хэвийн урсгалтай байдаг. Тиймээс доош түүвэрлэх шаардлагатай.\n",
    "\n",
    "Дээж авах үйл явцын хувьд,\n",
    "Бид хэвийн бус урсгалыг ердийн урсгалаас \"олон\" дахин их байлгахыг зөвшөөрдөг. Энэ арга нь дайралтын урсгалын талаарх мэдээллийн алдагдлаас урьдчилан сэргийлэхийн зэрэгцээ ангийн тэнцвэргүй байдлыг багасгах зорилготой (халдлагын урсгалын тоог ердийн тоо руу буулгах үед ML загварууд тохирохгүй).\n"
   ]
  },
  {
   "cell_type": "code",
   "execution_count": 7,
   "metadata": {},
   "outputs": [],
   "source": [
    "mult = 5\n",
    "\n",
    "def load_file(path):\n",
    "    data = pd.read_csv(path, sep=',', low_memory=False)\n",
    "\n",
    "    is_benign = data[' Label'] == 'BENIGN'\n",
    "    flows_ok = data[is_benign]\n",
    "    flows_ddos_full = data[~is_benign]\n",
    "    \n",
    "    sizeDownSample = len(flows_ok) * mult\n",
    "    \n",
    "    if sizeDownSample < len(flows_ddos_full): \n",
    "        flows_ddos_reduced = resample(flows_ddos_full,\n",
    "                                      replace=False,\n",
    "                                      n_samples=sizeDownSample,\n",
    "                                      random_state=27)\n",
    "    else:\n",
    "        flows_ddos_reduced = flows_ddos_full\n",
    "    \n",
    "    return flows_ok, flows_ddos_reduced\n",
    "\n",
    " \n",
    "def load_huge_file(path):\n",
    "    df_chunk = pd.read_csv(path, chunksize=500000, low_memory=False)\n",
    "    \n",
    "    chunk_list_ok = []\n",
    "    chunk_list_ddos = [] \n",
    "\n",
    "    for chunk in df_chunk:  \n",
    "        is_benign = chunk[' Label'] == 'BENIGN'\n",
    "        flows_ok = chunk[is_benign]\n",
    "        flows_ddos_full = chunk[~is_benign]\n",
    "        \n",
    "        if len(flows_ok) * mult < len(flows_ddos_full): \n",
    "            sizeDownSample = len(flows_ok) * mult\n",
    "            \n",
    "            flows_ddos_reduced = resample(flows_ddos_full,\n",
    "                                          replace=False,\n",
    "                                          n_samples=sizeDownSample,\n",
    "                                          random_state=27)\n",
    "        else:\n",
    "            flows_ddos_reduced = flows_ddos_full\n",
    "            \n",
    "        chunk_list_ok.append(flows_ok)\n",
    "        chunk_list_ddos.append(flows_ddos_reduced)\n",
    "        \n",
    "    flows_ok = pd.concat(chunk_list_ok)\n",
    "    flows_ddos = pd.concat(chunk_list_ddos)\n",
    "    \n",
    "    return flows_ok, flows_ddos"
   ]
  },
  {
   "cell_type": "markdown",
   "metadata": {},
   "source": [
    "## Loading CIC-DDoS2019 - Day 1 (training)"
   ]
  },
  {
   "cell_type": "code",
   "execution_count": 4,
   "metadata": {},
   "outputs": [
    {
     "name": "stdout",
     "output_type": "stream",
     "text": [
      "file 1 loaded\n",
      "file 2 loaded\n",
      "file 3 loaded\n",
      "file 4 loaded\n",
      "file 5 loaded\n",
      "file 6 loaded\n",
      "file 7 loaded\n",
      "file 8 loaded\n",
      "file 9 loaded\n",
      "file 10 loaded\n",
      "file 11 loaded\n"
     ]
    }
   ],
   "source": [
    "# file 1\n",
    "flows_ok, flows_ddos = load_huge_file('cicddos2019/01-12/TFTP.csv')\n",
    "print('file 1 loaded')\n",
    "\n",
    "# file 2\n",
    "a, b = load_file('cicddos2019/01-12/DrDoS_LDAP.csv')\n",
    "flows_ok = pd.concat([flows_ok, a], ignore_index=True)\n",
    "flows_ddos = pd.concat([flows_ddos, b], ignore_index=True)\n",
    "print('file 2 loaded')\n",
    "\n",
    "# file 3\n",
    "a, b = load_file('cicddos2019/01-12/DrDoS_MSSQL.csv')\n",
    "flows_ok = pd.concat([flows_ok, a], ignore_index=True)\n",
    "flows_ddos = pd.concat([flows_ddos, b], ignore_index=True)\n",
    "print('file 3 loaded')\n",
    "\n",
    "# file 4\n",
    "a, b = load_file('cicddos2019/01-12/DrDoS_NetBIOS.csv')\n",
    "flows_ok = pd.concat([flows_ok, a], ignore_index=True)\n",
    "flows_ddos = pd.concat([flows_ddos, b], ignore_index=True)\n",
    "print('file 4 loaded')\n",
    "\n",
    "# file 5\n",
    "a, b = load_file('cicddos2019/01-12/DrDoS_NTP.csv')\n",
    "flows_ok = pd.concat([flows_ok, a], ignore_index=True)\n",
    "flows_ddos = pd.concat([flows_ddos, b], ignore_index=True)\n",
    "print('file 5 loaded')\n",
    "\n",
    "# file 6\n",
    "a, b = load_file('cicddos2019/01-12/DrDoS_SNMP.csv')\n",
    "flows_ok = pd.concat([flows_ok, a], ignore_index=True)\n",
    "flows_ddos = pd.concat([flows_ddos, b], ignore_index=True)\n",
    "print('file 6 loaded')\n",
    "\n",
    "# file 7\n",
    "a, b = load_file('cicddos2019/01-12/DrDoS_SSDP.csv')\n",
    "flows_ok = pd.concat([flows_ok, a], ignore_index=True)\n",
    "flows_ddos = pd.concat([flows_ddos, b], ignore_index=True)\n",
    "print('file 7 loaded')\n",
    "\n",
    "# file 8\n",
    "a, b = load_file('cicddos2019/01-12/DrDoS_UDP.csv')\n",
    "flows_ok = pd.concat([flows_ok, a], ignore_index=True)\n",
    "flows_ddos = pd.concat([flows_ddos, b], ignore_index=True)\n",
    "print('file 8 loaded')\n",
    "\n",
    "# file 9\n",
    "a, b = load_file('cicddos2019/01-12/Syn.csv')\n",
    "flows_ok = pd.concat([flows_ok, a], ignore_index=True)\n",
    "flows_ddos = pd.concat([flows_ddos, b], ignore_index=True)\n",
    "print('file 9 loaded')\n",
    "\n",
    "# file 10\n",
    "a, b = load_file('cicddos2019/01-12/DrDoS_DNS.csv')\n",
    "flows_ok = pd.concat([flows_ok, a], ignore_index=True)\n",
    "flows_ddos = pd.concat([flows_ddos, b], ignore_index=True)\n",
    "print('file 10 loaded')\n",
    "\n",
    "# file 11\n",
    "a, b = load_file('cicddos2019/01-12/UDPLag.csv')\n",
    "flows_ok = pd.concat([flows_ok, a], ignore_index=True)\n",
    "flows_ddos = pd.concat([flows_ddos, b], ignore_index=True)\n",
    "print('file 11 loaded')\n",
    "\n",
    "del a, b\n",
    "\n",
    "samples = pd.concat([flows_ddos], ignore_index=True)\n",
    "samples.to_csv(r'cicddos2019/01-12/export_dataframe.csv', index=None, header=True)\n",
    "\n",
    "del flows_ddos, flows_ok"
   ]
  },
  {
   "cell_type": "markdown",
   "metadata": {},
   "source": [
    "## Loading CIC-DDoS2019 - Day 2 (testing)"
   ]
  },
  {
   "cell_type": "code",
   "execution_count": 5,
   "metadata": {},
   "outputs": [
    {
     "name": "stdout",
     "output_type": "stream",
     "text": [
      "file 1 loaded\n",
      "file 2 loaded\n",
      "file 3 loaded\n",
      "file 4 loaded\n",
      "file 5 loaded\n"
     ]
    }
   ],
   "source": [
    "# file 1\n",
    "flows_ok, flows_ddos = load_file('cicddos2019/03-11/LDAP.csv')\n",
    "print('file 1 loaded')\n",
    "\n",
    "# file 2\n",
    "a,b = load_file('cicddos2019/03-11/MSSQL.csv')\n",
    "flows_ok = pd.concat([flows_ok, a], ignore_index=True)\n",
    "flows_ddos = pd.concat([flows_ddos, b], ignore_index=True)\n",
    "print('file 2 loaded')\n",
    "\n",
    "# file 3\n",
    "a,b = load_file('cicddos2019/03-11/NetBIOS.csv')\n",
    "flows_ok = pd.concat([flows_ok, a], ignore_index=True)\n",
    "flows_ddos = pd.concat([flows_ddos, b], ignore_index=True)\n",
    "print('file 3 loaded')\n",
    "\n",
    "# file 4\n",
    "a,b = load_file('cicddos2019/03-11/PortMap.csv')\n",
    "flows_ok = pd.concat([flows_ok, a], ignore_index=True)\n",
    "flows_ddos = pd.concat([flows_ddos, b], ignore_index=True)\n",
    "print('file 4 loaded')\n",
    "\n",
    "# file 5\n",
    "a,b = load_file('cicddos2019/03-11/Syn.csv')\n",
    "flows_ok = pd.concat([flows_ok, a], ignore_index=True)\n",
    "flows_ddos = pd.concat([flows_ddos, b], ignore_index=True)\n",
    "print('file 5 loaded')\n",
    "'''\n",
    "# following files won't load**\n",
    "# file 6\n",
    "\n",
    "a,b = load_file('cicddos2019/03-11/UDP.csv')\n",
    "flows_ok = flows_ok.append(a,ignore_index=True)\n",
    "flows_ddos = flows_ddos.append(b,ignore_index=True)\n",
    "print('file 6 loaded')\n",
    "\n",
    "# file 7\n",
    "a,b = load_file('cicddos2019/03-11/UDPLag.csv')\n",
    "flows_ok = flows_ok.append(a,ignore_index=True)\n",
    "flows_ddos = flows_ddos.append(b,ignore_index=True)\n",
    "print('file 7 loaded')\n",
    "'''\n",
    "\n",
    "\n",
    "tests = pd.concat([flows_ddos],ignore_index=True)\n",
    "tests.to_csv(r'cicddos2019/01-12/export_tests.csv', index = None, header=True) \n",
    "\n",
    "del flows_ddos, flows_ok, a, b\n"
   ]
  },
  {
   "cell_type": "markdown",
   "metadata": {},
   "source": [
    "## CIC-DDoS2019 Data Processing"
   ]
  },
  {
   "cell_type": "code",
   "execution_count": 100,
   "metadata": {},
   "outputs": [
    {
     "name": "stderr",
     "output_type": "stream",
     "text": [
      "C:\\Users\\Chinges\\AppData\\Local\\Temp\\ipykernel_23844\\1123740656.py:2: DtypeWarning: Columns (85) have mixed types. Specify dtype option on import or set low_memory=False.\n",
      "  samples = pd.read_csv('cicddos2019/01-12/export_dataframe.csv', sep=',')\n"
     ]
    },
    {
     "name": "stdout",
     "output_type": "stream",
     "text": [
      "Training data processed\n"
     ]
    }
   ],
   "source": [
    "# training data\n",
    "samples = pd.read_csv('cicddos2019/01-12/export_dataframe.csv', sep=',')\n",
    "\n",
    "def string2numeric_hash(text):\n",
    "    import hashlib\n",
    "    return int(hashlib.md5(text).hexdigest()[:8], 16)\n",
    "\n",
    "# Flows Packet/s e Bytes/s - Replace infinity by 0\n",
    "samples = samples.replace('Infinity','0')\n",
    "samples = samples.replace(np.inf,0)\n",
    "samples = samples.replace('nan','0')\n",
    "samples[' Flow Packets/s'] = pd.to_numeric(samples[' Flow Packets/s'])\n",
    "\n",
    "samples['Flow Bytes/s'] = samples['Flow Bytes/s'].fillna(0)\n",
    "samples['Flow Bytes/s'] = pd.to_numeric(samples['Flow Bytes/s'])\n",
    "\n",
    "\n",
    "#Label\n",
    "samples[' Label'] = samples[' Label'].replace('BENIGN',0)\n",
    "samples[' Label'] = samples[' Label'].replace('DrDoS_DNS',1)\n",
    "samples[' Label'] = samples[' Label'].replace('DrDoS_LDAP',1)\n",
    "samples[' Label'] = samples[' Label'].replace('DrDoS_MSSQL',1)\n",
    "samples[' Label'] = samples[' Label'].replace('DrDoS_NTP',1)\n",
    "samples[' Label'] = samples[' Label'].replace('DrDoS_NetBIOS',1)\n",
    "samples[' Label'] = samples[' Label'].replace('DrDoS_SNMP',1)\n",
    "samples[' Label'] = samples[' Label'].replace('DrDoS_SSDP',1)\n",
    "samples[' Label'] = samples[' Label'].replace('DrDoS_UDP',1)\n",
    "samples[' Label'] = samples[' Label'].replace('Syn',1)\n",
    "samples[' Label'] = samples[' Label'].replace('TFTP',1)\n",
    "samples[' Label'] = samples[' Label'].replace('UDP-lag',1)\n",
    "samples[' Label'] = samples[' Label'].replace('WebDDoS',1)\n",
    "\n",
    "#Timestamp - Drop day, then convert hour, minute and seconds to hashing \n",
    "colunaTime = samples[' Timestamp'].str.extract(r'(\\d{2}:\\d{2}:\\d{2})\\.(\\d+)')\n",
    "colunaTime.columns = ['horas', 'milisec']\n",
    "stringHoras = pd.DataFrame(colunaTime['horas'].str.encode('utf-8'))\n",
    "samples[' Timestamp'] = pd.DataFrame(stringHoras['horas'].apply(string2numeric_hash))\n",
    "del colunaTime, stringHoras\n",
    "\n",
    "\n",
    "# flowID - IP origem - IP destino - Simillar HTTP -> Drop (individual flow analysis)\n",
    "del samples[' Source IP']\n",
    "del samples[' Destination IP']\n",
    "del samples['Flow ID']\n",
    "del samples['SimillarHTTP']\n",
    "del samples['Unnamed: 0']\n",
    "\n",
    "samples.to_csv(r'cicddos2019/01-12/export_dataframe_proc.csv', index = None, header=True) \n",
    "print('Training data processed')"
   ]
  },
  {
   "cell_type": "code",
   "execution_count": 98,
   "metadata": {},
   "outputs": [
    {
     "name": "stdout",
     "output_type": "stream",
     "text": [
      "Test data processed\n"
     ]
    }
   ],
   "source": [
    "# test data\n",
    "tests = pd.read_csv('cicddos2019/01-12/export_tests.csv', sep=',')\n",
    "\n",
    "def string2numeric_hash(text):\n",
    "    import hashlib\n",
    "    return int(hashlib.md5(text).hexdigest()[:8], 16)\n",
    "\n",
    "# Flows Packet/s e Bytes/s - Change infinity by 0\n",
    "tests = tests.replace('Infinity','0')\n",
    "tests = tests.replace(np.inf,0)\n",
    "amostras = pd.DataFrame()\n",
    "amostras = amostras.replace('nan','0')\n",
    "tests[' Flow Packets/s'] = pd.to_numeric(tests[' Flow Packets/s'])\n",
    "\n",
    "tests['Flow Bytes/s'] = tests['Flow Bytes/s'].fillna(0)\n",
    "tests['Flow Bytes/s'] = pd.to_numeric(tests['Flow Bytes/s'])\n",
    "\n",
    "#Label\n",
    "tests[' Label'] = tests[' Label'].replace('BENIGN',0)\n",
    "tests[' Label'] = tests[' Label'].replace('LDAP',1)\n",
    "tests[' Label'] = tests[' Label'].replace('NetBIOS',1)\n",
    "tests[' Label'] = tests[' Label'].replace('MSSQL',1)\n",
    "tests[' Label'] = tests[' Label'].replace('Portmap',1)\n",
    "tests[' Label'] = tests[' Label'].replace('Syn',1)\n",
    "#tests[' Label'] = tests[' Label'].replace('DrDoS_SNMP',1)\n",
    "#tests[' Label'] = tests[' Label'].replace('DrDoS_SSDP',1)\n",
    "\n",
    "#Timestamp - Drop day, then convert hour, minute and seconds to hashing \n",
    "colunaTime = tests[' Timestamp'].str.extract(r'(\\d{2}:\\d{2}:\\d{2})\\.(\\d+)')\n",
    "colunaTime.columns = ['horas', 'milisec']\n",
    "stringHoras = pd.DataFrame(colunaTime['horas'].str.encode('utf-8'))\n",
    "tests[' Timestamp'] = pd.DataFrame(stringHoras['horas'].apply(string2numeric_hash))#colunaTime['horas']\n",
    "del colunaTime,stringHoras\n",
    "\n",
    "# flowID - IP origem - IP destino - Simillar HTTP -> Deletar (analise fluxo a fluxo)\n",
    "del tests[' Source IP']\n",
    "del tests[' Destination IP']\n",
    "del tests['Flow ID']\n",
    "del tests['SimillarHTTP']\n",
    "del tests['Unnamed: 0']\n",
    "\n",
    "tests.to_csv(r'cicddos2019/01-12/export_tests_proc.csv', index = None, header=True) \n",
    "print('Test data processed')"
   ]
  },
  {
   "cell_type": "markdown",
   "metadata": {},
   "source": [
    "## Methods implementation\n",
    "\n",
    "Importing required library"
   ]
  },
  {
   "cell_type": "code",
   "execution_count": 116,
   "metadata": {},
   "outputs": [],
   "source": [
    "# Import required libraries\n",
    "from keras.models import Sequential\n",
    "from keras.layers import Dense,GRU,Embedding,Dropout,Flatten,Conv1D,MaxPooling1D,LSTM\n",
    "from keras.layers import GRU, LSTM, Conv1D, MaxPooling1D, Dense, Flatten, Dropout"
   ]
  },
  {
   "cell_type": "markdown",
   "metadata": {},
   "source": [
    "### Gated Recurrent Units (GRU)"
   ]
  },
  {
   "cell_type": "code",
   "execution_count": 117,
   "metadata": {},
   "outputs": [],
   "source": [
    "#input_size\n",
    "# -> CIC-DDoS2019 82\n",
    "# -> CIC-IDS2018 78\n",
    "def GRU_model(input_size):\n",
    "   \n",
    "    # Initialize the constructor\n",
    "    model = Sequential()\n",
    "    model.add(GRU(32, input_shape=(input_size,1), return_sequences=False)) #\n",
    "    model.add(Dropout(0.5))    \n",
    "    model.add(Dense(10, activation='relu'))\n",
    "    model.add(Dense(1, activation='sigmoid'))\n",
    "    \n",
    "    model.build()\n",
    "    print(model.summary())\n",
    "    \n",
    "    return model"
   ]
  },
  {
   "cell_type": "markdown",
   "metadata": {},
   "source": [
    "### Convolutional Neural Network (CNN)"
   ]
  },
  {
   "cell_type": "code",
   "execution_count": 118,
   "metadata": {},
   "outputs": [],
   "source": [
    "def CNN_model(input_size):\n",
    "   \n",
    "    # Initialize the constructor\n",
    "    model = Sequential()\n",
    "    \n",
    "    model.add(Conv1D(filters=64, kernel_size=8, activation='relu', input_shape=(input_size,1)))\n",
    "    model.add(MaxPooling1D(2))\n",
    "    model.add(Conv1D(filters=32, kernel_size=16, activation='relu'))\n",
    "    model.add(MaxPooling1D(2))\n",
    "    model.add(Conv1D(filters=16, kernel_size=3, activation='relu'))\n",
    "    model.add(MaxPooling1D(2))\n",
    "    \n",
    "    model.add(Dropout(0.5))\n",
    "\n",
    "    model.add(Flatten())\n",
    "    model.add(Dense(10, activation='relu'))\n",
    "    model.add(Dense(1, activation='sigmoid'))\n",
    "    \n",
    "    print(model.summary())\n",
    "    \n",
    "    return model"
   ]
  },
  {
   "cell_type": "markdown",
   "metadata": {},
   "source": [
    "### Long-Short Term Memory (LSTM)"
   ]
  },
  {
   "cell_type": "code",
   "execution_count": 119,
   "metadata": {},
   "outputs": [],
   "source": [
    "def LSTM_model(input_size):\n",
    "    # Initialize the constructor\n",
    "    model = Sequential()\n",
    "    \n",
    "    model.add(LSTM(32,input_shape=(input_size,1), return_sequences=False))\n",
    "    model.add(Dropout(0.5))    \n",
    "    model.add(Dense(10, activation='relu'))\n",
    "    model.add(Dense(1, activation='sigmoid'))\n",
    "    \n",
    "    print(model.summary())\n",
    "    \n",
    "    return model"
   ]
  },
  {
   "cell_type": "markdown",
   "metadata": {},
   "source": [
    "### Deep Neural Network (DNN)"
   ]
  },
  {
   "cell_type": "code",
   "execution_count": 120,
   "metadata": {},
   "outputs": [],
   "source": [
    "def DNN_model(input_size):\n",
    "   \n",
    "    # Initialize the constructor\n",
    "    model = Sequential()\n",
    "    \n",
    "    model.add(Dense(2, activation='relu', input_shape=(input_size,)))\n",
    "    model.add(Dense(100, activation='relu'))   \n",
    "    model.add(Dense(40, activation='relu'))\n",
    "    model.add(Dense(10, activation='relu'))\n",
    "    model.add(Dropout(0.5))\n",
    "    model.add(Dense(1, activation='sigmoid'))\n",
    "    \n",
    "    print(model.summary())\n",
    "    \n",
    "    return model"
   ]
  },
  {
   "cell_type": "markdown",
   "metadata": {},
   "source": [
    "# Auxiliar Functions\n",
    "\n",
    "Implementation of auxiliar functions, such as testing, compiling/training, 3d reshape, etc. "
   ]
  },
  {
   "cell_type": "markdown",
   "metadata": {},
   "source": [
    "### train_test(samples)\n",
    "> Receives a group of samples and split it in train/test sets.\n"
   ]
  },
  {
   "cell_type": "code",
   "execution_count": 121,
   "metadata": {},
   "outputs": [],
   "source": [
    "def train_test(samples):\n",
    "    # Import `train_test_split` from `sklearn.model_selection`\n",
    "    from sklearn.model_selection import train_test_split\n",
    "    import numpy as np\n",
    "    \n",
    "    # Specify the data \n",
    "    X=samples.iloc[:,0:(samples.shape[1]-1)]\n",
    "    \n",
    "    # Specify the target labels and flatten the array\n",
    "    #y= np.ravel(amostras.type)\n",
    "    y= samples.iloc[:,-1]\n",
    "    \n",
    "    # Split the data up in train and test sets\n",
    "    X_train, X_test, y_train, y_test = train_test_split(X, y, test_size=0.33, random_state=42)\n",
    "    \n",
    "    return X_train, X_test, y_train, y_test\n"
   ]
  },
  {
   "cell_type": "markdown",
   "metadata": {},
   "source": [
    "### normalize_data(X_train,X_test)\n",
    "\n",
    "> Normalize data between -1 and 1"
   ]
  },
  {
   "cell_type": "code",
   "execution_count": 122,
   "metadata": {},
   "outputs": [],
   "source": [
    "# normalize input data\n",
    "\n",
    "def normalize_data(X_train,X_test):\n",
    "    # Import `StandardScaler` from `sklearn.preprocessing`\n",
    "    from sklearn.preprocessing import StandardScaler,MinMaxScaler\n",
    "    \n",
    "    # Define the scaler \n",
    "    #scaler = StandardScaler().fit(X_train)\n",
    "    scaler = MinMaxScaler(feature_range=(-1, 1)).fit(X_train)\n",
    "    \n",
    "    # Scale the train set\n",
    "    X_train = scaler.transform(X_train)\n",
    "    \n",
    "    # Scale the test set\n",
    "    X_test = scaler.transform(X_test)\n",
    "    \n",
    "    return X_train, X_test"
   ]
  },
  {
   "cell_type": "markdown",
   "metadata": {},
   "source": [
    "### format_{2,3}d()\n",
    "\n",
    "> Reshape data in 3d or 2d format (for input in methods such as GRU, CNN and LSTM)"
   ]
  },
  {
   "cell_type": "code",
   "execution_count": 123,
   "metadata": {},
   "outputs": [],
   "source": [
    "# Reshape data input\n",
    "\n",
    "def format_3d(df):\n",
    "    \n",
    "    X = np.array(df)\n",
    "    return np.reshape(X, (X.shape[0], X.shape[1], 1))\n",
    "\n",
    "def format_2d(df):\n",
    "    \n",
    "    X = np.array(df)\n",
    "    return np.reshape(X, (X.shape[0], X.shape[1]))"
   ]
  },
  {
   "cell_type": "markdown",
   "metadata": {},
   "source": [
    "### compile_train(model,X_train,y_train,deep=True)\n",
    "\n",
    "> Compile and train learning model\n",
    "\n",
    "> deep = False for scikit-learn ML methods"
   ]
  },
  {
   "cell_type": "code",
   "execution_count": 124,
   "metadata": {},
   "outputs": [],
   "source": [
    "# compile and train learning model\n",
    "def compile_train(model,X_train,y_train,deep=True):\n",
    "    \n",
    "    if(deep==True):\n",
    "        import matplotlib.pyplot as plt\n",
    "\n",
    "        model.compile(loss='binary_crossentropy',\n",
    "                      optimizer='adam',\n",
    "                      metrics=['accuracy'])\n",
    "        \n",
    "        history = model.fit(X_train, y_train,epochs=10, batch_size=256, verbose=1)\n",
    "        #model.fit(X_train, y_train,epochs=3)\n",
    "\n",
    "        # summarize history for accuracy\n",
    "        plt.plot(history.history['accuracy'])\n",
    "        plt.title('model accuracy')\n",
    "        plt.ylabel('accuracy')\n",
    "        plt.xlabel('epoch')\n",
    "        plt.legend(['train'], loc='upper left')\n",
    "        plt.show()\n",
    "        # summarize history for loss\n",
    "        plt.plot(history.history['loss'])\n",
    "        plt.title('model loss')\n",
    "        plt.ylabel('loss')\n",
    "        plt.xlabel('epoch')\n",
    "        plt.legend(['train'], loc='upper left')\n",
    "        plt.show()\n",
    "\n",
    "        print(model.metrics_names)\n",
    "    \n",
    "    else:\n",
    "        model.fit(X_train, y_train) #SVM, LR, GD\n",
    "    \n",
    "    print('Model Compiled and Trained')\n",
    "    return model"
   ]
  },
  {
   "cell_type": "markdown",
   "metadata": {},
   "source": [
    "### testes(model,X_test,y_test,y_pred, deep=True)\n",
    "\n",
    "> Testing performance outcomes of the methods\n",
    "\n",
    "> deep = False for scikit-learn ML methods\n"
   ]
  },
  {
   "cell_type": "code",
   "execution_count": 142,
   "metadata": {},
   "outputs": [],
   "source": [
    "# Testing performance outcomes of the methods\n",
    "\n",
    "def testes(model,X_test,y_test,y_pred, deep=True):\n",
    "    if(deep==True): \n",
    "        score = model.evaluate(X_test, y_test,verbose=1)\n",
    "\n",
    "        print(score)\n",
    "    \n",
    "    # Alguns testes adicionais\n",
    "    y_test = format_2d(y_test)\n",
    "    y_pred = format_3d(y_pred)\n",
    "    \n",
    "    \n",
    "    # Import the modules from `sklearn.metrics`\n",
    "    from sklearn.metrics import confusion_matrix, precision_score, recall_score, f1_score, cohen_kappa_score, accuracy_score\n",
    "    \n",
    "    # Accuracy \n",
    "    acc = accuracy_score(y_test, y_pred)\n",
    "    print('\\nAccuracy')\n",
    "    print(acc)\n",
    "    \n",
    "    # Precision \n",
    "    prec = precision_score(y_test, y_pred)#,average='macro')\n",
    "    print('\\nPrecision')\n",
    "    print(prec)\n",
    "    \n",
    "    # Recall\n",
    "    rec = recall_score(y_test, y_pred) #,average='macro')\n",
    "    print('\\nRecall')\n",
    "    print(rec)\n",
    "    \n",
    "    # F1 score\n",
    "    f1 = f1_score(y_test,y_pred) #,average='macro')\n",
    "    print('\\nF1 Score')\n",
    "    print(f1)\n",
    "    \n",
    "    #average\n",
    "    avrg = (acc+prec+rec+f1)/4\n",
    "    print('\\nAverage (acc, prec, rec, f1)')\n",
    "    print(avrg)\n",
    "    \n",
    "    return acc, prec, rec, f1, avrg"
   ]
  },
  {
   "cell_type": "markdown",
   "metadata": {},
   "source": [
    "### test_normal_atk(y_test,y_pred):\n",
    "\n",
    "> Calculate the correct classification rate of normal and attack flow records"
   ]
  },
  {
   "cell_type": "code",
   "execution_count": 126,
   "metadata": {},
   "outputs": [],
   "source": [
    "def test_normal_atk(y_test,y_pred):\n",
    "    df = pd.DataFrame()\n",
    "    df['y_test'] = y_test\n",
    "    df['y_pred'] = y_pred\n",
    "    \n",
    "    normal = len(df.query('y_test == 0'))\n",
    "    atk = len(y_test)-normal\n",
    "    \n",
    "    wrong = df.query('y_test != y_pred')\n",
    "    \n",
    "    normal_detect_rate = (normal - wrong.groupby('y_test').count().iloc[0][0]) / normal\n",
    "    atk_detect_rate = (atk - wrong.groupby('y_test').count().iloc[1][0]) / atk\n",
    "    \n",
    "    print(normal_detect_rate,atk_detect_rate)\n",
    "    \n",
    "    return normal_detect_rate, atk_detect_rate"
   ]
  },
  {
   "cell_type": "markdown",
   "metadata": {},
   "source": [
    "### Saving and Loading methods\n",
    "\n",
    "> Methods for saving and loading trained models"
   ]
  },
  {
   "cell_type": "code",
   "execution_count": 127,
   "metadata": {},
   "outputs": [],
   "source": [
    "import os\n",
    "import pickle\n",
    "from keras.models import model_from_json\n",
    "\n",
    "def save_model(model, name):\n",
    "    # Create the 'Models' directory if it doesn't exist\n",
    "    if not os.path.exists('Models'):\n",
    "        os.makedirs('Models')\n",
    "\n",
    "    # Save model architecture to JSON\n",
    "    model_json = model.to_json()\n",
    "    with open(f'Models/{name}.json', 'w') as json_file:\n",
    "        json_file.write(model_json)\n",
    "\n",
    "    # Save model weights to HDF5\n",
    "    model.save_weights(f'Models/{name}.h5')\n",
    "    print('Model saved')\n",
    "\n",
    "def load_model(name):\n",
    "    # Load model architecture from JSON\n",
    "    with open(f'Models/{name}.json', 'r') as json_file:\n",
    "        loaded_model_json = json_file.read()\n",
    "    loaded_model = model_from_json(loaded_model_json)\n",
    "\n",
    "    # Load model weights from HDF5\n",
    "    loaded_model.load_weights(f'Models/{name}.h5')\n",
    "    print('Model loaded')\n",
    "\n",
    "    return loaded_model\n",
    "\n",
    "def save_sklearn(model, name):\n",
    "    # Create the 'Models' directory if it doesn't exist\n",
    "    if not os.path.exists('Models'):\n",
    "        os.makedirs('Models')\n",
    "\n",
    "    # Save scikit-learn model to pickle file\n",
    "    with open(f'Models/{name}.pkl', 'wb') as file:\n",
    "        pickle.dump(model, file)\n",
    "    print('Scikit-learn model saved')\n",
    "\n",
    "def load_sklearn(name):\n",
    "    # Load scikit-learn model from pickle file\n",
    "    with open(f'Models/{name}.pkl', 'rb') as file:\n",
    "        loaded_model = pickle.load(file)\n",
    "    print('Scikit-learn model loaded')\n",
    "    return loaded_model"
   ]
  },
  {
   "cell_type": "markdown",
   "metadata": {},
   "source": [
    "# Main script for testing the learning methods\n",
    "\n",
    "> **Dataset - CIC-DDoS2019**\n",
    "\n",
    "Loading training dataset (day 1), upsampling normal flows for balancing the training set. "
   ]
  },
  {
   "cell_type": "code",
   "execution_count": 131,
   "metadata": {},
   "outputs": [
    {
     "ename": "ValueError",
     "evalue": "high <= 0",
     "output_type": "error",
     "traceback": [
      "\u001b[1;31m---------------------------------------------------------------------------\u001b[0m",
      "\u001b[1;31mValueError\u001b[0m                                Traceback (most recent call last)",
      "\u001b[1;32md:\\hicheel\\4-1\\tusul2\\deep\\ddos.ipynb Cell 38\u001b[0m line \u001b[0;36m1\n\u001b[0;32m     <a href='vscode-notebook-cell:/d%3A/hicheel/4-1/tusul2/deep/ddos.ipynb#X52sZmlsZQ%3D%3D?line=14'>15</a>\u001b[0m ddos \u001b[39m=\u001b[39m X[\u001b[39m~\u001b[39mis_benign]\n\u001b[0;32m     <a href='vscode-notebook-cell:/d%3A/hicheel/4-1/tusul2/deep/ddos.ipynb#X52sZmlsZQ%3D%3D?line=16'>17</a>\u001b[0m \u001b[39m# upsample minority\u001b[39;00m\n\u001b[1;32m---> <a href='vscode-notebook-cell:/d%3A/hicheel/4-1/tusul2/deep/ddos.ipynb#X52sZmlsZQ%3D%3D?line=17'>18</a>\u001b[0m normal_upsampled \u001b[39m=\u001b[39m resample(normal,\n\u001b[0;32m     <a href='vscode-notebook-cell:/d%3A/hicheel/4-1/tusul2/deep/ddos.ipynb#X52sZmlsZQ%3D%3D?line=18'>19</a>\u001b[0m                           replace\u001b[39m=\u001b[39;49m\u001b[39mTrue\u001b[39;49;00m, \u001b[39m# sample with replacement\u001b[39;49;00m\n\u001b[0;32m     <a href='vscode-notebook-cell:/d%3A/hicheel/4-1/tusul2/deep/ddos.ipynb#X52sZmlsZQ%3D%3D?line=19'>20</a>\u001b[0m                           n_samples\u001b[39m=\u001b[39;49m\u001b[39mlen\u001b[39;49m(ddos), \u001b[39m# match number in majority class\u001b[39;49;00m\n\u001b[0;32m     <a href='vscode-notebook-cell:/d%3A/hicheel/4-1/tusul2/deep/ddos.ipynb#X52sZmlsZQ%3D%3D?line=20'>21</a>\u001b[0m                           random_state\u001b[39m=\u001b[39;49m\u001b[39m27\u001b[39;49m) \u001b[39m# reproducible results\u001b[39;00m\n\u001b[0;32m     <a href='vscode-notebook-cell:/d%3A/hicheel/4-1/tusul2/deep/ddos.ipynb#X52sZmlsZQ%3D%3D?line=21'>22</a>\u001b[0m \u001b[39m# combine majority and upsampled minority\u001b[39;00m\n\u001b[0;32m     <a href='vscode-notebook-cell:/d%3A/hicheel/4-1/tusul2/deep/ddos.ipynb#X52sZmlsZQ%3D%3D?line=22'>23</a>\u001b[0m upsampled \u001b[39m=\u001b[39m pd\u001b[39m.\u001b[39mconcat([normal_upsampled, ddos])\n",
      "File \u001b[1;32m~\\AppData\\Local\\Packages\\PythonSoftwareFoundation.Python.3.11_qbz5n2kfra8p0\\LocalCache\\local-packages\\Python311\\site-packages\\sklearn\\utils\\_param_validation.py:211\u001b[0m, in \u001b[0;36mvalidate_params.<locals>.decorator.<locals>.wrapper\u001b[1;34m(*args, **kwargs)\u001b[0m\n\u001b[0;32m    205\u001b[0m \u001b[39mtry\u001b[39;00m:\n\u001b[0;32m    206\u001b[0m     \u001b[39mwith\u001b[39;00m config_context(\n\u001b[0;32m    207\u001b[0m         skip_parameter_validation\u001b[39m=\u001b[39m(\n\u001b[0;32m    208\u001b[0m             prefer_skip_nested_validation \u001b[39mor\u001b[39;00m global_skip_validation\n\u001b[0;32m    209\u001b[0m         )\n\u001b[0;32m    210\u001b[0m     ):\n\u001b[1;32m--> 211\u001b[0m         \u001b[39mreturn\u001b[39;00m func(\u001b[39m*\u001b[39;49margs, \u001b[39m*\u001b[39;49m\u001b[39m*\u001b[39;49mkwargs)\n\u001b[0;32m    212\u001b[0m \u001b[39mexcept\u001b[39;00m InvalidParameterError \u001b[39mas\u001b[39;00m e:\n\u001b[0;32m    213\u001b[0m     \u001b[39m# When the function is just a wrapper around an estimator, we allow\u001b[39;00m\n\u001b[0;32m    214\u001b[0m     \u001b[39m# the function to delegate validation to the estimator, but we replace\u001b[39;00m\n\u001b[0;32m    215\u001b[0m     \u001b[39m# the name of the estimator by the name of the function in the error\u001b[39;00m\n\u001b[0;32m    216\u001b[0m     \u001b[39m# message to avoid confusion.\u001b[39;00m\n\u001b[0;32m    217\u001b[0m     msg \u001b[39m=\u001b[39m re\u001b[39m.\u001b[39msub(\n\u001b[0;32m    218\u001b[0m         \u001b[39mr\u001b[39m\u001b[39m\"\u001b[39m\u001b[39mparameter of \u001b[39m\u001b[39m\\\u001b[39m\u001b[39mw+ must be\u001b[39m\u001b[39m\"\u001b[39m,\n\u001b[0;32m    219\u001b[0m         \u001b[39mf\u001b[39m\u001b[39m\"\u001b[39m\u001b[39mparameter of \u001b[39m\u001b[39m{\u001b[39;00mfunc\u001b[39m.\u001b[39m\u001b[39m__qualname__\u001b[39m\u001b[39m}\u001b[39;00m\u001b[39m must be\u001b[39m\u001b[39m\"\u001b[39m,\n\u001b[0;32m    220\u001b[0m         \u001b[39mstr\u001b[39m(e),\n\u001b[0;32m    221\u001b[0m     )\n",
      "File \u001b[1;32m~\\AppData\\Local\\Packages\\PythonSoftwareFoundation.Python.3.11_qbz5n2kfra8p0\\LocalCache\\local-packages\\Python311\\site-packages\\sklearn\\utils\\__init__.py:581\u001b[0m, in \u001b[0;36mresample\u001b[1;34m(replace, n_samples, random_state, stratify, *arrays)\u001b[0m\n\u001b[0;32m    579\u001b[0m \u001b[39mif\u001b[39;00m stratify \u001b[39mis\u001b[39;00m \u001b[39mNone\u001b[39;00m:\n\u001b[0;32m    580\u001b[0m     \u001b[39mif\u001b[39;00m replace:\n\u001b[1;32m--> 581\u001b[0m         indices \u001b[39m=\u001b[39m random_state\u001b[39m.\u001b[39;49mrandint(\u001b[39m0\u001b[39;49m, n_samples, size\u001b[39m=\u001b[39;49m(max_n_samples,))\n\u001b[0;32m    582\u001b[0m     \u001b[39melse\u001b[39;00m:\n\u001b[0;32m    583\u001b[0m         indices \u001b[39m=\u001b[39m np\u001b[39m.\u001b[39marange(n_samples)\n",
      "File \u001b[1;32mnumpy\\\\random\\\\mtrand.pyx:779\u001b[0m, in \u001b[0;36mnumpy.random.mtrand.RandomState.randint\u001b[1;34m()\u001b[0m\n",
      "File \u001b[1;32mnumpy\\\\random\\\\_bounded_integers.pyx:2885\u001b[0m, in \u001b[0;36mnumpy.random._bounded_integers._rand_int32\u001b[1;34m()\u001b[0m\n",
      "\u001b[1;31mValueError\u001b[0m: high <= 0"
     ]
    }
   ],
   "source": [
    "# UPSAMPLE OF NORMAL FLOWS\n",
    "    \n",
    "samples = pd.read_csv('cicddos2019/01-12/export_dataframe_proc.csv', sep=',')\n",
    "\n",
    "X_train, X_test, y_train, y_test = train_test(samples)\n",
    "\n",
    "\n",
    "#junta novamente pra aumentar o numero de normais\n",
    "X = pd.concat([X_train, y_train], axis=1)\n",
    "\n",
    "# separate minority and majority classes\n",
    "is_benign = X[' Label'] == 0 #base de dados toda junta\n",
    "\n",
    "normal = X[is_benign]\n",
    "ddos = X[~is_benign]\n",
    "\n",
    "# upsample minority\n",
    "normal_upsampled = resample(normal,\n",
    "                          replace=True, # sample with replacement\n",
    "                          n_samples=len(ddos), # match number in majority class\n",
    "                          random_state=27) # reproducible results\n",
    "# combine majority and upsampled minority\n",
    "upsampled = pd.concat([normal_upsampled, ddos])\n",
    "\n",
    "# Specify the data \n",
    "X_train=upsampled.iloc[:,0:(upsampled.shape[1]-1)]    #DDoS\n",
    "y_train= upsampled.iloc[:,-1]  #DDoS\n",
    "\n",
    "input_size = (X_train.shape[1], 1)\n",
    "\n",
    "del X, normal_upsampled, ddos, upsampled, normal #, l1, l2 "
   ]
  },
  {
   "cell_type": "markdown",
   "metadata": {},
   "source": [
    "Importing the test dataset (day 2) and normalizing data."
   ]
  },
  {
   "cell_type": "code",
   "execution_count": null,
   "metadata": {},
   "outputs": [
    {
     "name": "stdout",
     "output_type": "stream",
     "text": [
      "(248815,)\n",
      "(248815, 82)\n"
     ]
    }
   ],
   "source": [
    "tests = pd.read_csv('cicddos2019/01-12/export_tests_proc.csv', sep=',')\n",
    "\n",
    "X_test = np.concatenate((X_test,(tests.iloc[:,0:(tests.shape[1]-1)]).to_numpy())) # testar 33% + dia de testes\n",
    "y_test = np.concatenate((y_test,tests.iloc[:,-1]))\n",
    "\n",
    "del X_test,y_test                            # testar só o dia de testes\n",
    "X_test = tests.iloc[:,0:(tests.shape[1]-1)]                        \n",
    "y_test = tests.iloc[:,-1]\n",
    "\n",
    "print((y_test.shape))\n",
    "print((X_test.shape))\n",
    "\n",
    "X_train, X_test = normalize_data(X_train,X_test)"
   ]
  },
  {
   "cell_type": "markdown",
   "metadata": {},
   "source": [
    "Compiling and Training the methods\n",
    "\n",
    "> Comment the last 2 code blocks\n",
    "\n",
    "**OR**\n",
    "\n",
    "Loading and compiling the methods\n",
    "\n",
    "> Comment the first 2 code blocks"
   ]
  },
  {
   "cell_type": "code",
   "execution_count": 134,
   "metadata": {},
   "outputs": [
    {
     "name": "stdout",
     "output_type": "stream",
     "text": [
      "Model: \"sequential_5\"\n",
      "_________________________________________________________________\n",
      " Layer (type)                Output Shape              Param #   \n",
      "=================================================================\n",
      " gru_2 (GRU)                 (None, 32)                3360      \n",
      "                                                                 \n",
      " dropout_5 (Dropout)         (None, 32)                0         \n",
      "                                                                 \n",
      " dense_13 (Dense)            (None, 10)                330       \n",
      "                                                                 \n",
      " dense_14 (Dense)            (None, 1)                 11        \n",
      "                                                                 \n",
      "=================================================================\n",
      "Total params: 3701 (14.46 KB)\n",
      "Trainable params: 3701 (14.46 KB)\n",
      "Non-trainable params: 0 (0.00 Byte)\n",
      "_________________________________________________________________\n",
      "None\n",
      "Model: \"sequential_6\"\n",
      "_________________________________________________________________\n",
      " Layer (type)                Output Shape              Param #   \n",
      "=================================================================\n",
      " conv1d_3 (Conv1D)           (None, 75, 64)            576       \n",
      "                                                                 \n",
      " max_pooling1d_3 (MaxPoolin  (None, 37, 64)            0         \n",
      " g1D)                                                            \n",
      "                                                                 \n",
      " conv1d_4 (Conv1D)           (None, 22, 32)            32800     \n",
      "                                                                 \n",
      " max_pooling1d_4 (MaxPoolin  (None, 11, 32)            0         \n",
      " g1D)                                                            \n",
      "                                                                 \n",
      " conv1d_5 (Conv1D)           (None, 9, 16)             1552      \n",
      "                                                                 \n",
      " max_pooling1d_5 (MaxPoolin  (None, 4, 16)             0         \n",
      " g1D)                                                            \n",
      "                                                                 \n",
      " dropout_6 (Dropout)         (None, 4, 16)             0         \n",
      "                                                                 \n",
      " flatten_1 (Flatten)         (None, 64)                0         \n",
      "                                                                 \n",
      " dense_15 (Dense)            (None, 10)                650       \n",
      "                                                                 \n",
      " dense_16 (Dense)            (None, 1)                 11        \n",
      "                                                                 \n",
      "=================================================================\n",
      "Total params: 35589 (139.02 KB)\n",
      "Trainable params: 35589 (139.02 KB)\n",
      "Non-trainable params: 0 (0.00 Byte)\n",
      "_________________________________________________________________\n",
      "None\n",
      "Model: \"sequential_7\"\n",
      "_________________________________________________________________\n",
      " Layer (type)                Output Shape              Param #   \n",
      "=================================================================\n",
      " lstm_1 (LSTM)               (None, 32)                4352      \n",
      "                                                                 \n",
      " dropout_7 (Dropout)         (None, 32)                0         \n",
      "                                                                 \n",
      " dense_17 (Dense)            (None, 10)                330       \n",
      "                                                                 \n",
      " dense_18 (Dense)            (None, 1)                 11        \n",
      "                                                                 \n",
      "=================================================================\n",
      "Total params: 4693 (18.33 KB)\n",
      "Trainable params: 4693 (18.33 KB)\n",
      "Non-trainable params: 0 (0.00 Byte)\n",
      "_________________________________________________________________\n",
      "None\n",
      "Model: \"sequential_8\"\n",
      "_________________________________________________________________\n",
      " Layer (type)                Output Shape              Param #   \n",
      "=================================================================\n",
      " dense_19 (Dense)            (None, 2)                 166       \n",
      "                                                                 \n",
      " dense_20 (Dense)            (None, 100)               300       \n",
      "                                                                 \n",
      " dense_21 (Dense)            (None, 40)                4040      \n",
      "                                                                 \n",
      " dense_22 (Dense)            (None, 10)                410       \n",
      "                                                                 \n",
      " dropout_8 (Dropout)         (None, 10)                0         \n",
      "                                                                 \n",
      " dense_23 (Dense)            (None, 1)                 11        \n",
      "                                                                 \n",
      "=================================================================\n",
      "Total params: 4927 (19.25 KB)\n",
      "Trainable params: 4927 (19.25 KB)\n",
      "Non-trainable params: 0 (0.00 Byte)\n",
      "_________________________________________________________________\n",
      "None\n",
      "Epoch 1/10\n",
      "720/720 [==============================] - 27s 35ms/step - loss: 0.0254 - accuracy: 0.9998\n",
      "Epoch 2/10\n",
      "720/720 [==============================] - 26s 37ms/step - loss: 5.6478e-05 - accuracy: 1.0000\n",
      "Epoch 3/10\n",
      "720/720 [==============================] - 24s 34ms/step - loss: 1.9934e-05 - accuracy: 1.0000\n",
      "Epoch 4/10\n",
      "720/720 [==============================] - 29s 40ms/step - loss: 9.3157e-06 - accuracy: 1.0000\n",
      "Epoch 5/10\n",
      "720/720 [==============================] - 21s 29ms/step - loss: 5.3804e-06 - accuracy: 1.0000\n",
      "Epoch 6/10\n",
      "720/720 [==============================] - 21s 30ms/step - loss: 3.3885e-06 - accuracy: 1.0000\n",
      "Epoch 7/10\n",
      "720/720 [==============================] - 44s 61ms/step - loss: 1.7856e-06 - accuracy: 1.0000\n",
      "Epoch 8/10\n",
      "720/720 [==============================] - 45s 63ms/step - loss: 1.2296e-06 - accuracy: 1.0000\n",
      "Epoch 9/10\n",
      "720/720 [==============================] - 47s 65ms/step - loss: 8.4644e-07 - accuracy: 1.0000\n",
      "Epoch 10/10\n",
      "720/720 [==============================] - 48s 66ms/step - loss: 5.3023e-07 - accuracy: 1.0000\n"
     ]
    },
    {
     "data": {
      "image/png": "[encoded data removed]",
      "text/plain": [
       "<Figure size 640x480 with 1 Axes>"
      ]
     },
     "metadata": {},
     "output_type": "display_data"
    },
    {
     "data": {
      "image/png": "[encoded data removed]",
      "text/plain": [
       "<Figure size 640x480 with 1 Axes>"
      ]
     },
     "metadata": {},
     "output_type": "display_data"
    },
    {
     "name": "stdout",
     "output_type": "stream",
     "text": [
      "['loss', 'accuracy']\n",
      "Model Compiled and Trained\n",
      "Epoch 1/10\n",
      "720/720 [==============================] - 15s 19ms/step - loss: 31146.2383 - accuracy: 0.9939\n",
      "Epoch 2/10\n",
      "720/720 [==============================] - 14s 19ms/step - loss: 195.7565 - accuracy: 0.9994\n",
      "Epoch 3/10\n",
      "720/720 [==============================] - 13s 18ms/step - loss: 86.0168 - accuracy: 0.9999\n",
      "Epoch 4/10\n",
      "720/720 [==============================] - 13s 18ms/step - loss: 6.3762 - accuracy: 1.0000\n",
      "Epoch 5/10\n",
      "720/720 [==============================] - 13s 18ms/step - loss: 4.0223 - accuracy: 1.0000\n",
      "Epoch 6/10\n",
      "720/720 [==============================] - 14s 19ms/step - loss: 21.0316 - accuracy: 0.9999\n",
      "Epoch 7/10\n",
      "720/720 [==============================] - 13s 19ms/step - loss: 1.2016 - accuracy: 1.0000\n",
      "Epoch 8/10\n",
      "720/720 [==============================] - 13s 18ms/step - loss: 1.0901 - accuracy: 1.0000\n",
      "Epoch 9/10\n",
      "720/720 [==============================] - 13s 18ms/step - loss: 0.2305 - accuracy: 1.0000\n",
      "Epoch 10/10\n",
      "720/720 [==============================] - 13s 18ms/step - loss: 0.8050 - accuracy: 1.0000\n"
     ]
    },
    {
     "data": {
      "image/png": "[encoded data removed]",
      "text/plain": [
       "<Figure size 640x480 with 1 Axes>"
      ]
     },
     "metadata": {},
     "output_type": "display_data"
    },
    {
     "data": {
      "image/png": "[encoded data removed]",
      "text/plain": [
       "<Figure size 640x480 with 1 Axes>"
      ]
     },
     "metadata": {},
     "output_type": "display_data"
    },
    {
     "name": "stdout",
     "output_type": "stream",
     "text": [
      "['loss', 'accuracy']\n",
      "Model Compiled and Trained\n",
      "Epoch 1/10\n",
      "720/720 [==============================] - 28s 37ms/step - loss: 0.0287 - accuracy: 0.9953\n",
      "Epoch 2/10\n",
      "720/720 [==============================] - 26s 36ms/step - loss: 1.6204e-04 - accuracy: 1.0000\n",
      "Epoch 3/10\n",
      "720/720 [==============================] - 26s 36ms/step - loss: 5.7024e-05 - accuracy: 1.0000\n",
      "Epoch 4/10\n",
      "720/720 [==============================] - 26s 35ms/step - loss: 2.6964e-05 - accuracy: 1.0000\n",
      "Epoch 5/10\n",
      "720/720 [==============================] - 26s 36ms/step - loss: 1.4725e-05 - accuracy: 1.0000\n",
      "Epoch 6/10\n",
      "720/720 [==============================] - 26s 35ms/step - loss: 8.3700e-06 - accuracy: 1.0000\n",
      "Epoch 7/10\n",
      "720/720 [==============================] - 25s 35ms/step - loss: 5.0523e-06 - accuracy: 1.0000\n",
      "Epoch 8/10\n",
      "720/720 [==============================] - 25s 35ms/step - loss: 3.7697e-06 - accuracy: 1.0000\n",
      "Epoch 9/10\n",
      "720/720 [==============================] - 25s 35ms/step - loss: 2.1799e-06 - accuracy: 1.0000\n",
      "Epoch 10/10\n",
      "720/720 [==============================] - 25s 35ms/step - loss: 1.6775e-06 - accuracy: 1.0000\n"
     ]
    },
    {
     "data": {
      "image/png": "[encoded data removed]",
      "text/plain": [
       "<Figure size 640x480 with 1 Axes>"
      ]
     },
     "metadata": {},
     "output_type": "display_data"
    },
    {
     "data": {
      "image/png": "[encoded data removed]",
      "text/plain": [
       "<Figure size 640x480 with 1 Axes>"
      ]
     },
     "metadata": {},
     "output_type": "display_data"
    },
    {
     "name": "stdout",
     "output_type": "stream",
     "text": [
      "['loss', 'accuracy']\n",
      "Model Compiled and Trained\n",
      "Epoch 1/10\n",
      "720/720 [==============================] - 2s 1ms/step - loss: 62988.5938 - accuracy: 0.9933\n",
      "Epoch 2/10\n",
      "720/720 [==============================] - 1s 1ms/step - loss: 0.1117 - accuracy: 1.0000\n",
      "Epoch 3/10\n",
      "720/720 [==============================] - 1s 1ms/step - loss: 0.0758 - accuracy: 1.0000\n",
      "Epoch 4/10\n",
      "720/720 [==============================] - 1s 1ms/step - loss: 0.0533 - accuracy: 1.0000\n",
      "Epoch 5/10\n",
      "720/720 [==============================] - 1s 1ms/step - loss: 0.0371 - accuracy: 1.0000\n",
      "Epoch 6/10\n",
      "720/720 [==============================] - 1s 1ms/step - loss: 0.0266 - accuracy: 1.0000\n",
      "Epoch 7/10\n",
      "720/720 [==============================] - 1s 1ms/step - loss: 0.0190 - accuracy: 1.0000\n",
      "Epoch 8/10\n",
      "720/720 [==============================] - 1s 1ms/step - loss: 0.0137 - accuracy: 1.0000\n",
      "Epoch 9/10\n",
      "720/720 [==============================] - 1s 1ms/step - loss: 0.0100 - accuracy: 1.0000\n",
      "Epoch 10/10\n",
      "720/720 [==============================] - 1s 1ms/step - loss: 0.0072 - accuracy: 1.0000\n"
     ]
    },
    {
     "data": {
      "image/png": "[encoded data removed]",
      "text/plain": [
       "<Figure size 640x480 with 1 Axes>"
      ]
     },
     "metadata": {},
     "output_type": "display_data"
    },
    {
     "data": {
      "image/png": "[encoded data removed]",
      "text/plain": [
       "<Figure size 640x480 with 1 Axes>"
      ]
     },
     "metadata": {},
     "output_type": "display_data"
    },
    {
     "name": "stdout",
     "output_type": "stream",
     "text": [
      "['loss', 'accuracy']\n",
      "Model Compiled and Trained\n"
     ]
    }
   ],
   "source": [
    "\n",
    "## Comment next 2 blocks if loading pre-trained models\n",
    "## Execute them if training new models\n",
    "\n",
    "model_gru = GRU_model(82) #quando treina novo modelo\n",
    "model_cnn = CNN_model(82)\n",
    "model_lstm = LSTM_model(82)\n",
    "model_dnn = DNN_model(X_train.shape[1])\n",
    "\n",
    "model_gru = compile_train(model_gru,format_3d(X_train),y_train)  #quando treina novo modelo, ou retreina\n",
    "model_cnn = compile_train(model_cnn,format_3d(X_train),y_train)\n",
    "model_lstm = compile_train(model_lstm,format_3d(X_train),y_train)\n",
    "model_dnn = compile_train(model_dnn,X_train,y_train)\n",
    "\n",
    "## Comment next 2 blocks if training new models\n",
    "## Execute them if loading pre-trained models\n",
    "\n",
    "\n",
    "#model_gru.compile(loss='binary_crossentropy', optimizer='adam', metrics=['accuracy']) #qdo carrega modelo salvo\n",
    "#model_cnn.compile(loss='binary_crossentropy', optimizer='adam', metrics=['accuracy'])\n",
    "#model_lstm.compile(loss='binary_crossentropy', optimizer='adam', metrics=['accuracy'])\n",
    "#model_dnn.compile(loss='binary_crossentropy', optimizer='adam', metrics=['accuracy'])"
   ]
  },
  {
   "cell_type": "markdown",
   "metadata": {},
   "source": [
    "# Testing CIC-DDoS2019 "
   ]
  },
  {
   "cell_type": "code",
   "execution_count": 140,
   "metadata": {},
   "outputs": [],
   "source": [
    "results = pd.DataFrame(columns=['Method','Accuracy','Precision','Recall', 'F1_Score', 'Average','Normal_Detect_Rate','Atk_Detect_Rate'])"
   ]
  },
  {
   "cell_type": "markdown",
   "metadata": {},
   "source": [
    "### GRU"
   ]
  },
  {
   "cell_type": "code",
   "execution_count": 141,
   "metadata": {},
   "outputs": [
    {
     "name": "stdout",
     "output_type": "stream",
     "text": [
      "2837/2837 [==============================] - 11s 4ms/step\n",
      "2837/2837 [==============================] - 10s 4ms/step - loss: 4.1818e-10 - accuracy: 1.0000\n",
      "[4.1817727058912624e-10, 1.0]\n"
     ]
    },
    {
     "ename": "NameError",
     "evalue": "name 'formatar2d' is not defined",
     "output_type": "error",
     "traceback": [
      "\u001b[1;31m---------------------------------------------------------------------------\u001b[0m",
      "\u001b[1;31mNameError\u001b[0m                                 Traceback (most recent call last)",
      "\u001b[1;32md:\\hicheel\\4-1\\tusul2\\deep\\ddos.ipynb Cell 46\u001b[0m line \u001b[0;36m5\n\u001b[0;32m      <a href='vscode-notebook-cell:/d%3A/hicheel/4-1/tusul2/deep/ddos.ipynb#X64sZmlsZQ%3D%3D?line=0'>1</a>\u001b[0m y_pred \u001b[39m=\u001b[39m model_gru\u001b[39m.\u001b[39mpredict(format_3d(X_test)) \n\u001b[0;32m      <a href='vscode-notebook-cell:/d%3A/hicheel/4-1/tusul2/deep/ddos.ipynb#X64sZmlsZQ%3D%3D?line=2'>3</a>\u001b[0m y_pred \u001b[39m=\u001b[39m y_pred\u001b[39m.\u001b[39mround()\n\u001b[1;32m----> <a href='vscode-notebook-cell:/d%3A/hicheel/4-1/tusul2/deep/ddos.ipynb#X64sZmlsZQ%3D%3D?line=4'>5</a>\u001b[0m acc, prec, rec, f1, avrg \u001b[39m=\u001b[39m testes(model_gru,format_3d(X_test),y_test,y_pred)\n\u001b[0;32m      <a href='vscode-notebook-cell:/d%3A/hicheel/4-1/tusul2/deep/ddos.ipynb#X64sZmlsZQ%3D%3D?line=6'>7</a>\u001b[0m norm, atk \u001b[39m=\u001b[39m test_normal_atk(y_test,y_pred)\n\u001b[0;32m      <a href='vscode-notebook-cell:/d%3A/hicheel/4-1/tusul2/deep/ddos.ipynb#X64sZmlsZQ%3D%3D?line=8'>9</a>\u001b[0m results \u001b[39m=\u001b[39m results\u001b[39m.\u001b[39mappend({\u001b[39m'\u001b[39m\u001b[39mMethod\u001b[39m\u001b[39m'\u001b[39m:\u001b[39m'\u001b[39m\u001b[39mGRU\u001b[39m\u001b[39m'\u001b[39m, \u001b[39m'\u001b[39m\u001b[39mAccuracy\u001b[39m\u001b[39m'\u001b[39m:acc, \u001b[39m'\u001b[39m\u001b[39mPrecision\u001b[39m\u001b[39m'\u001b[39m:prec, \u001b[39m'\u001b[39m\u001b[39mF1_Score\u001b[39m\u001b[39m'\u001b[39m:f1,\n\u001b[0;32m     <a href='vscode-notebook-cell:/d%3A/hicheel/4-1/tusul2/deep/ddos.ipynb#X64sZmlsZQ%3D%3D?line=9'>10</a>\u001b[0m                           \u001b[39m'\u001b[39m\u001b[39mRecall\u001b[39m\u001b[39m'\u001b[39m:rec,\u001b[39m'\u001b[39m\u001b[39mAverage\u001b[39m\u001b[39m'\u001b[39m:avrg, \u001b[39m'\u001b[39m\u001b[39mNormal_Detect_Rate\u001b[39m\u001b[39m'\u001b[39m:norm, \u001b[39m'\u001b[39m\u001b[39mAtk_Detect_Rate\u001b[39m\u001b[39m'\u001b[39m:atk}, ignore_index\u001b[39m=\u001b[39m\u001b[39mTrue\u001b[39;00m)\n",
      "\u001b[1;32md:\\hicheel\\4-1\\tusul2\\deep\\ddos.ipynb Cell 46\u001b[0m line \u001b[0;36m1\n\u001b[0;32m      <a href='vscode-notebook-cell:/d%3A/hicheel/4-1/tusul2/deep/ddos.ipynb#X64sZmlsZQ%3D%3D?line=6'>7</a>\u001b[0m     \u001b[39mprint\u001b[39m(score)\n\u001b[0;32m      <a href='vscode-notebook-cell:/d%3A/hicheel/4-1/tusul2/deep/ddos.ipynb#X64sZmlsZQ%3D%3D?line=8'>9</a>\u001b[0m \u001b[39m# Alguns testes adicionais\u001b[39;00m\n\u001b[1;32m---> <a href='vscode-notebook-cell:/d%3A/hicheel/4-1/tusul2/deep/ddos.ipynb#X64sZmlsZQ%3D%3D?line=9'>10</a>\u001b[0m y_test \u001b[39m=\u001b[39m formatar2d(y_test)\n\u001b[0;32m     <a href='vscode-notebook-cell:/d%3A/hicheel/4-1/tusul2/deep/ddos.ipynb#X64sZmlsZQ%3D%3D?line=10'>11</a>\u001b[0m y_pred \u001b[39m=\u001b[39m formatar2d(y_pred)\n\u001b[0;32m     <a href='vscode-notebook-cell:/d%3A/hicheel/4-1/tusul2/deep/ddos.ipynb#X64sZmlsZQ%3D%3D?line=13'>14</a>\u001b[0m \u001b[39m# Import the modules from `sklearn.metrics`\u001b[39;00m\n",
      "\u001b[1;31mNameError\u001b[0m: name 'formatar2d' is not defined"
     ]
    }
   ],
   "source": [
    "y_pred = model_gru.predict(format_3d(X_test)) \n",
    "\n",
    "y_pred = y_pred.round()\n",
    " \n",
    "acc, prec, rec, f1, avrg = testes(model_gru,format_3d(X_test),y_test,y_pred)\n",
    "\n",
    "norm, atk = test_normal_atk(y_test,y_pred)\n",
    "\n",
    "results = results.append({'Method':'GRU', 'Accuracy':acc, 'Precision':prec, 'F1_Score':f1,\n",
    "                          'Recall':rec,'Average':avrg, 'Normal_Detect_Rate':norm, 'Atk_Detect_Rate':atk}, ignore_index=True)"
   ]
  },
  {
   "cell_type": "markdown",
   "metadata": {},
   "source": [
    "### CNN"
   ]
  },
  {
   "cell_type": "code",
   "execution_count": 138,
   "metadata": {},
   "outputs": [
    {
     "name": "stdout",
     "output_type": "stream",
     "text": [
      "2837/2837 [==============================] - 4s 2ms/step\n",
      "2837/2837 [==============================] - 4s 1ms/step - loss: 0.0000e+00 - accuracy: 1.0000\n",
      "[0.0, 1.0]\n"
     ]
    },
    {
     "ename": "IndexError",
     "evalue": "tuple index out of range",
     "output_type": "error",
     "traceback": [
      "\u001b[1;31m---------------------------------------------------------------------------\u001b[0m",
      "\u001b[1;31mIndexError\u001b[0m                                Traceback (most recent call last)",
      "\u001b[1;32md:\\hicheel\\4-1\\tusul2\\deep\\ddos.ipynb Cell 49\u001b[0m line \u001b[0;36m5\n\u001b[0;32m      <a href='vscode-notebook-cell:/d%3A/hicheel/4-1/tusul2/deep/ddos.ipynb#X66sZmlsZQ%3D%3D?line=0'>1</a>\u001b[0m y_pred \u001b[39m=\u001b[39m model_cnn\u001b[39m.\u001b[39mpredict(format_3d(X_test)) \n\u001b[0;32m      <a href='vscode-notebook-cell:/d%3A/hicheel/4-1/tusul2/deep/ddos.ipynb#X66sZmlsZQ%3D%3D?line=2'>3</a>\u001b[0m y_pred \u001b[39m=\u001b[39m y_pred\u001b[39m.\u001b[39mround()\n\u001b[1;32m----> <a href='vscode-notebook-cell:/d%3A/hicheel/4-1/tusul2/deep/ddos.ipynb#X66sZmlsZQ%3D%3D?line=4'>5</a>\u001b[0m acc, prec, rec, f1, avrg \u001b[39m=\u001b[39m testes(model_cnn,format_3d(X_test),y_test,y_pred)\n\u001b[0;32m      <a href='vscode-notebook-cell:/d%3A/hicheel/4-1/tusul2/deep/ddos.ipynb#X66sZmlsZQ%3D%3D?line=6'>7</a>\u001b[0m norm, atk \u001b[39m=\u001b[39m test_normal_atk(y_test,y_pred)\n\u001b[0;32m      <a href='vscode-notebook-cell:/d%3A/hicheel/4-1/tusul2/deep/ddos.ipynb#X66sZmlsZQ%3D%3D?line=8'>9</a>\u001b[0m results \u001b[39m=\u001b[39m results\u001b[39m.\u001b[39mappend({\u001b[39m'\u001b[39m\u001b[39mMethod\u001b[39m\u001b[39m'\u001b[39m:\u001b[39m'\u001b[39m\u001b[39mCNN\u001b[39m\u001b[39m'\u001b[39m, \u001b[39m'\u001b[39m\u001b[39mAccuracy\u001b[39m\u001b[39m'\u001b[39m:acc, \u001b[39m'\u001b[39m\u001b[39mPrecision\u001b[39m\u001b[39m'\u001b[39m:prec, \u001b[39m'\u001b[39m\u001b[39mF1_Score\u001b[39m\u001b[39m'\u001b[39m:f1,\n\u001b[0;32m     <a href='vscode-notebook-cell:/d%3A/hicheel/4-1/tusul2/deep/ddos.ipynb#X66sZmlsZQ%3D%3D?line=9'>10</a>\u001b[0m                           \u001b[39m'\u001b[39m\u001b[39mRecall\u001b[39m\u001b[39m'\u001b[39m:rec,\u001b[39m'\u001b[39m\u001b[39mAverage\u001b[39m\u001b[39m'\u001b[39m:avrg, \u001b[39m'\u001b[39m\u001b[39mNormal_Detect_Rate\u001b[39m\u001b[39m'\u001b[39m:norm, \u001b[39m'\u001b[39m\u001b[39mAtk_Detect_Rate\u001b[39m\u001b[39m'\u001b[39m:atk}, ignore_index\u001b[39m=\u001b[39m\u001b[39mTrue\u001b[39;00m)\n",
      "\u001b[1;32md:\\hicheel\\4-1\\tusul2\\deep\\ddos.ipynb Cell 49\u001b[0m line \u001b[0;36m1\n\u001b[0;32m      <a href='vscode-notebook-cell:/d%3A/hicheel/4-1/tusul2/deep/ddos.ipynb#X66sZmlsZQ%3D%3D?line=6'>7</a>\u001b[0m     \u001b[39mprint\u001b[39m(score)\n\u001b[0;32m      <a href='vscode-notebook-cell:/d%3A/hicheel/4-1/tusul2/deep/ddos.ipynb#X66sZmlsZQ%3D%3D?line=8'>9</a>\u001b[0m \u001b[39m# Alguns testes adicionais\u001b[39;00m\n\u001b[1;32m---> <a href='vscode-notebook-cell:/d%3A/hicheel/4-1/tusul2/deep/ddos.ipynb#X66sZmlsZQ%3D%3D?line=9'>10</a>\u001b[0m y_test \u001b[39m=\u001b[39m format_2d(y_test)\n\u001b[0;32m     <a href='vscode-notebook-cell:/d%3A/hicheel/4-1/tusul2/deep/ddos.ipynb#X66sZmlsZQ%3D%3D?line=10'>11</a>\u001b[0m y_pred \u001b[39m=\u001b[39m format_2d(y_pred)\n\u001b[0;32m     <a href='vscode-notebook-cell:/d%3A/hicheel/4-1/tusul2/deep/ddos.ipynb#X66sZmlsZQ%3D%3D?line=13'>14</a>\u001b[0m \u001b[39m# Import the modules from `sklearn.metrics`\u001b[39;00m\n",
      "\u001b[1;32md:\\hicheel\\4-1\\tusul2\\deep\\ddos.ipynb Cell 49\u001b[0m line \u001b[0;36m1\n\u001b[0;32m      <a href='vscode-notebook-cell:/d%3A/hicheel/4-1/tusul2/deep/ddos.ipynb#X66sZmlsZQ%3D%3D?line=7'>8</a>\u001b[0m \u001b[39mdef\u001b[39;00m \u001b[39mformat_2d\u001b[39m(df):\n\u001b[0;32m     <a href='vscode-notebook-cell:/d%3A/hicheel/4-1/tusul2/deep/ddos.ipynb#X66sZmlsZQ%3D%3D?line=9'>10</a>\u001b[0m     X \u001b[39m=\u001b[39m np\u001b[39m.\u001b[39marray(df)\n\u001b[1;32m---> <a href='vscode-notebook-cell:/d%3A/hicheel/4-1/tusul2/deep/ddos.ipynb#X66sZmlsZQ%3D%3D?line=10'>11</a>\u001b[0m     \u001b[39mreturn\u001b[39;00m np\u001b[39m.\u001b[39mreshape(X, (X\u001b[39m.\u001b[39mshape[\u001b[39m0\u001b[39m], X\u001b[39m.\u001b[39;49mshape[\u001b[39m1\u001b[39;49m]))\n",
      "\u001b[1;31mIndexError\u001b[0m: tuple index out of range"
     ]
    }
   ],
   "source": [
    "y_pred = model_cnn.predict(format_3d(X_test)) \n",
    "\n",
    "y_pred = y_pred.round()\n",
    " \n",
    "acc, prec, rec, f1, avrg = testes(model_cnn,format_3d(X_test),y_test,y_pred)\n",
    "\n",
    "norm, atk = test_normal_atk(y_test,y_pred)\n",
    "\n",
    "results = results.append({'Method':'CNN', 'Accuracy':acc, 'Precision':prec, 'F1_Score':f1,\n",
    "                          'Recall':rec,'Average':avrg, 'Normal_Detect_Rate':norm, 'Atk_Detect_Rate':atk}, ignore_index=True)"
   ]
  },
  {
   "cell_type": "markdown",
   "metadata": {},
   "source": [
    "### LSTM"
   ]
  },
  {
   "cell_type": "code",
   "execution_count": null,
   "metadata": {},
   "outputs": [],
   "source": [
    "y_pred = model_lstm.predict(format_3d(X_test)) \n",
    "\n",
    "y_pred = y_pred.round()\n",
    " \n",
    "acc, prec, rec, f1, avrg = testes(model_lstm,format_3d(X_test),y_test,y_pred)\n",
    "\n",
    "norm, atk = test_normal_atk(y_test,y_pred)\n",
    "\n",
    "results = results.append({'Method':'LSTM', 'Accuracy':acc, 'Precision':prec, 'F1_Score':f1,\n",
    "                          'Recall':rec,'Average':avrg, 'Normal_Detect_Rate':norm, 'Atk_Detect_Rate':atk}, ignore_index=True)"
   ]
  },
  {
   "cell_type": "markdown",
   "metadata": {},
   "source": [
    "### DNN"
   ]
  },
  {
   "cell_type": "code",
   "execution_count": null,
   "metadata": {},
   "outputs": [],
   "source": [
    "y_pred = model_dnn.predict(X_test) \n",
    "\n",
    "y_pred = y_pred.round()\n",
    " \n",
    "acc, prec, rec, f1, avrg = testes(model_dnn,X_test,y_test,y_pred)\n",
    "\n",
    "norm, atk = test_normal_atk(y_test,y_pred)\n",
    "\n",
    "results = results.append({'Method':'DNN', 'Accuracy':acc, 'Precision':prec, 'F1_Score':f1,\n",
    "                          'Recall':rec,'Average':avrg, 'Normal_Detect_Rate':norm, 'Atk_Detect_Rate':atk}, ignore_index=True)"
   ]
  },
  {
   "cell_type": "markdown",
   "metadata": {},
   "source": [
    "# Discussion and Results\n",
    "\n",
    "Showing the table 'results', containing the performance metrics outcomes for each method."
   ]
  },
  {
   "cell_type": "code",
   "execution_count": null,
   "metadata": {},
   "outputs": [],
   "source": [
    "results"
   ]
  },
  {
   "cell_type": "markdown",
   "metadata": {},
   "source": [
    "<div>\n",
    "<style scoped>\n",
    "    .dataframe tbody tr th:only-of-type {\n",
    "        vertical-align: middle;\n",
    "    }\n",
    "\n",
    "    .dataframe tbody tr th {\n",
    "        vertical-align: top;\n",
    "    }\n",
    "\n",
    "    .dataframe thead th {\n",
    "        text-align: right;\n",
    "    }\n",
    "</style>\n",
    "<table border=\"1\" class=\"dataframe\">\n",
    "  <thead>\n",
    "    <tr style=\"text-align: right;\">\n",
    "      <th></th>\n",
    "      <th>Method</th>\n",
    "      <th>Accuracy</th>\n",
    "      <th>Precision</th>\n",
    "      <th>Recall</th>\n",
    "      <th>F1_Score</th>\n",
    "      <th>Average</th>\n",
    "      <th>Normal_Detect_Rate</th>\n",
    "      <th>Atk_Detect_Rate</th>\n",
    "    </tr>\n",
    "  </thead>\n",
    "  <tbody>\n",
    "    <tr>\n",
    "      <th>1</th>\n",
    "      <td>GRU</td>\n",
    "      <td>0.998583</td>\n",
    "      <td>0.999509</td>\n",
    "      <td>0.998790</td>\n",
    "      <td>0.999150</td>\n",
    "      <td>0.999008</td>\n",
    "      <td>0.997548</td>\n",
    "      <td>0.998790</td>\n",
    "    </tr>\n",
    "    <tr>\n",
    "      <th>2</th>\n",
    "      <td>CNN</td>\n",
    "      <td>0.987725</td>\n",
    "      <td>0.994210</td>\n",
    "      <td>0.991042</td>\n",
    "      <td>0.992623</td>\n",
    "      <td>0.991400</td>\n",
    "      <td>0.971143</td>\n",
    "      <td>0.991042</td>\n",
    "    </tr>\n",
    "    <tr>\n",
    "      <th>3</th>\n",
    "      <td>LSTM</td>\n",
    "      <td>0.978297</td>\n",
    "      <td>0.999180</td>\n",
    "      <td>0.974756</td>\n",
    "      <td>0.986817</td>\n",
    "      <td>0.984763</td>\n",
    "      <td>0.996001</td>\n",
    "      <td>0.974756</td>\n",
    "    </tr>\n",
    "    <tr>\n",
    "      <th>4</th>\n",
    "      <td>DNN</td>\n",
    "      <td>0.997441</td>\n",
    "      <td>0.998140</td>\n",
    "      <td>0.998790</td>\n",
    "      <td>0.998465</td>\n",
    "      <td>0.998209</td>\n",
    "      <td>0.990696</td>\n",
    "      <td>0.998790</td>\n",
    "    </tr>\n",
    "\n",
    "  </tbody>\n",
    "</table>\n",
    "</div>"
   ]
  },
  {
   "cell_type": "markdown",
   "metadata": {},
   "source": [
    "**Classification Metrics:**\n",
    "* Accuracy\n",
    "* Precision\n",
    "* Recall\n",
    "* F1 Measure (F1 Score)\n",
    "\n",
    "Showing performance outcomes of the methods: \n",
    "* GRU\n",
    "* DNN\n",
    "\n",
    "LSTM and CNN were separated for visualization improvement."
   ]
  },
  {
   "cell_type": "markdown",
   "metadata": {},
   "source": [
    "> GRU showed the most balanced approach regarding classifying normal and attack flows. \n",
    "\n",
    "> Although CNN achieved a relatively good classification of attacks, the classification of normal record flows was low compared to other methods. This result can explain the Accuracy rate of this method. This situation also occurs with the LSTM method, which achieved a good classification rate for normal flows and a low classification rate for attack ones. "
   ]
  }
 ],
 "metadata": {
  "kernelspec": {
   "display_name": "Python 3 (ipykernel)",
   "language": "python",
   "name": "python3"
  },
  "language_info": {
   "codemirror_mode": {
    "name": "ipython",
    "version": 3
   },
   "file_extension": ".py",
   "mimetype": "text/x-python",
   "name": "python",
   "nbconvert_exporter": "python",
   "pygments_lexer": "ipython3",
   "version": "3.11.6"
  }
 },
 "nbformat": 4,
 "nbformat_minor": 4
}
